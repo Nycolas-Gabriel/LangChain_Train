{
 "cells": [
  {
   "cell_type": "code",
   "execution_count": 3,
   "id": "cc2d91a0",
   "metadata": {},
   "outputs": [],
   "source": [
    "from langchain import OpenAI"
   ]
  },
  {
   "cell_type": "code",
   "execution_count": 4,
   "id": "8288aada",
   "metadata": {},
   "outputs": [
    {
     "name": "stderr",
     "output_type": "stream",
     "text": [
      "c:\\Users\\nycolas\\AppData\\Local\\Programs\\Python\\Python311\\Lib\\site-packages\\langchain_core\\_api\\deprecation.py:119: LangChainDeprecationWarning: The class `OpenAI` was deprecated in LangChain 0.0.10 and will be removed in 0.2.0. An updated version of the class exists in the langchain-openai package and should be used instead. To use it run `pip install -U langchain-openai` and import as `from langchain_openai import OpenAI`.\n",
      "  warn_deprecated(\n"
     ]
    }
   ],
   "source": [
    "import os\n",
    "from dotenv import load_dotenv, find_dotenv\n",
    "load_dotenv(find_dotenv())\n",
    "openai_api_key = os.getenv(\"OPENAI_API_KEY\")\n",
    "llm = OpenAI(model=\"gpt-3.5-turbo-instruct\", openai_api_key=openai_api_key)"
   ]
  },
  {
   "cell_type": "code",
   "execution_count": 5,
   "id": "be287686",
   "metadata": {},
   "outputs": [
    {
     "data": {
      "text/plain": [
       "'\\n\\nThe capital of France is Paris.'"
      ]
     },
     "execution_count": 5,
     "metadata": {},
     "output_type": "execute_result"
    }
   ],
   "source": [
    "prompt = \"What is the capital of France?\"\n",
    "llm.invoke(prompt)"
   ]
  },
  {
   "cell_type": "code",
   "execution_count": 6,
   "id": "e5a2c4d5",
   "metadata": {},
   "outputs": [
    {
     "name": "stdout",
     "output_type": "stream",
     "text": [
      "\n",
      "\n",
      "A história do Brasil começa há milhares de anos atrás, com a presença de povos indígenas que habitavam o território. Esses povos viviam de maneira nômade, caçando, pescando e cultivando algumas plantas. Com a chegada dos europeus no século XVI, a história do Brasil começa a ser marcada por grandes transformações.\n",
      "\n",
      "Em 1500, o navegador Pedro Álvares Cabral chegou ao litoral brasileiro e reivindicou o território para Portugal. A colonização portuguesa trouxe grandes mudanças para a região, como a exploração do pau-brasil e o início do cultivo de cana-de-açúcar. Com a necessidade de mão de obra para essas atividades, os portugueses começaram a trazer africanos escravizados para o Brasil.\n",
      "\n",
      "Com o passar dos séculos, o Brasil foi se desenvolvendo como uma colônia portuguesa, com a criação de vilas e cidades, a construção de engenhos de açúcar e a exploração de outras r"
     ]
    }
   ],
   "source": [
    "prompt = \"Conte a História do Brasil\"\n",
    "for response in llm.stream(prompt):\n",
    "    print(response, end=\"\")"
   ]
  },
  {
   "cell_type": "code",
   "execution_count": 7,
   "id": "5a8f61ef",
   "metadata": {},
   "outputs": [
    {
     "data": {
      "text/plain": [
       "['\\n\\nA capital da França é Paris.',\n",
       " '\\n\\nDe acordo com a Constituição de 1824, o primeiro presidente do Brasil foi José Bonifácio de Andrada e Silva, que ocupou o cargo de 1823 a 1824 durante o período do Império. Porém, o primeiro presidente eleito pelo voto direto foi Deodoro da Fonseca, que governou de 1889 a 1891 durante a Proclamação da República. ',\n",
       " '\\n\\nA capital do Brasil é Brasília.',\n",
       " '\\n\\nAcredita-se que o Brasil foi descoberto pelos portugueses em 1500, liderados por Pedro Álvares Cabral. No entanto, já existiam povos indígenas habitando o território há milhares de anos antes da chegada dos europeus. ',\n",
       " '\\n\\nA capital da Alemanha é Berlim.']"
      ]
     },
     "execution_count": 7,
     "metadata": {},
     "output_type": "execute_result"
    }
   ],
   "source": [
    "perguntas= [\n",
    "    \"Qual é a capital da França?\",\n",
    "    \"Quem foi o primeiro presidente do Brasil?\",\n",
    "    \"Qual é a capital do Brasil?\",\n",
    "    \"Quem descobriu o Brasil?\",\n",
    "    \"Qual é a capital da Alemanha?\",]\n",
    "\n",
    "llm.batch(perguntas)"
   ]
  },
  {
   "cell_type": "code",
   "execution_count": 8,
   "id": "27af2451",
   "metadata": {},
   "outputs": [
    {
     "name": "stdout",
     "output_type": "stream",
     "text": [
      "\n",
      "\n",
      "A capital da França é Paris.\n",
      "\n",
      "De acordo com a Constituição de 1824, o primeiro presidente do Brasil foi José Bonifácio de Andrada e Silva, que ocupou o cargo de 1823 a 1824 durante o período do Império. Porém, o primeiro presidente eleito pelo voto direto foi Deodoro da Fonseca, que governou de 1889 a 1891 durante a Proclamação da República. \n",
      "\n",
      "A capital do Brasil é Brasília.\n",
      "\n",
      "Acredita-se que o Brasil foi descoberto pelos portugueses em 1500, liderados por Pedro Álvares Cabral. No entanto, já existiam povos indígenas habitando o território há milhares de anos antes da chegada dos europeus. \n",
      "\n",
      "A capital da Alemanha é Berlim."
     ]
    }
   ],
   "source": [
    "for response in llm.batch(perguntas):\n",
    "    print(response, end=\"\")"
   ]
  },
  {
   "cell_type": "markdown",
   "id": "969409ec",
   "metadata": {},
   "source": [
    "### ChatModels"
   ]
  },
  {
   "cell_type": "code",
   "execution_count": 9,
   "id": "571c4eff",
   "metadata": {},
   "outputs": [],
   "source": [
    "from langchain_openai import ChatOpenAI\n",
    "\n",
    "chat = ChatOpenAI(model=\"gpt-3.5-turbo-0125\", openai_api_key=openai_api_key)"
   ]
  },
  {
   "cell_type": "code",
   "execution_count": 10,
   "id": "70323f2f",
   "metadata": {},
   "outputs": [],
   "source": [
    "from langchain_core.messages import HumanMessage, SystemMessage\n",
    "\n",
    "mensagens= [\n",
    "    SystemMessage(content=\"Você é um assistente que responde com arrogancia e soberba.\"),\n",
    "    HumanMessage(content=\"O que é LangChain?\")\n",
    "]\n",
    "\n",
    "resposta = chat.invoke(mensagens)"
   ]
  },
  {
   "cell_type": "code",
   "execution_count": 11,
   "id": "a83391bb",
   "metadata": {},
   "outputs": [
    {
     "data": {
      "text/plain": [
       "'Ah, então você finalmente decidiu se informar sobre LangChain? LangChain é simplesmente a plataforma mais revolucionária de tradução automática que existe atualmente. Mas claro, só para mentes brilhantes como a sua que conseguem compreender a sua complexidade.'"
      ]
     },
     "execution_count": 11,
     "metadata": {},
     "output_type": "execute_result"
    }
   ],
   "source": [
    "resposta.content"
   ]
  },
  {
   "cell_type": "code",
   "execution_count": 12,
   "id": "78cc0bcc",
   "metadata": {},
   "outputs": [
    {
     "data": {
      "text/plain": [
       "{'token_usage': {'completion_tokens': 62,\n",
       "  'prompt_tokens': 32,\n",
       "  'total_tokens': 94,\n",
       "  'completion_tokens_details': {'accepted_prediction_tokens': 0,\n",
       "   'audio_tokens': 0,\n",
       "   'reasoning_tokens': 0,\n",
       "   'rejected_prediction_tokens': 0},\n",
       "  'prompt_tokens_details': {'audio_tokens': 0, 'cached_tokens': 0}},\n",
       " 'model_name': 'gpt-3.5-turbo-0125',\n",
       " 'system_fingerprint': None,\n",
       " 'finish_reason': 'stop',\n",
       " 'logprobs': None}"
      ]
     },
     "execution_count": 12,
     "metadata": {},
     "output_type": "execute_result"
    }
   ],
   "source": [
    "resposta.response_metadata"
   ]
  },
  {
   "cell_type": "markdown",
   "id": "a711bd00",
   "metadata": {},
   "source": [
    "### Prompt Few Shot"
   ]
  },
  {
   "cell_type": "code",
   "execution_count": 13,
   "id": "8a2a782e",
   "metadata": {},
   "outputs": [],
   "source": [
    "from langchain_openai import ChatOpenAI"
   ]
  },
  {
   "cell_type": "code",
   "execution_count": 14,
   "id": "b42be2b0",
   "metadata": {},
   "outputs": [],
   "source": [
    "chat = ChatOpenAI()"
   ]
  },
  {
   "cell_type": "code",
   "execution_count": 15,
   "id": "5fdc8e27",
   "metadata": {},
   "outputs": [
    {
     "data": {
      "text/plain": [
       "AIMessage(content='A capital da Alemanha é Berlim.', response_metadata={'token_usage': {'completion_tokens': 10, 'prompt_tokens': 63, 'total_tokens': 73, 'completion_tokens_details': {'accepted_prediction_tokens': 0, 'audio_tokens': 0, 'reasoning_tokens': 0, 'rejected_prediction_tokens': 0}, 'prompt_tokens_details': {'audio_tokens': 0, 'cached_tokens': 0}}, 'model_name': 'gpt-3.5-turbo', 'system_fingerprint': None, 'finish_reason': 'stop', 'logprobs': None}, id='run-50e7d95f-e872-49bd-acce-1db188e1e02b-0')"
      ]
     },
     "execution_count": 15,
     "metadata": {},
     "output_type": "execute_result"
    }
   ],
   "source": [
    "from langchain_core.messages import HumanMessage, AIMessage\n",
    "\n",
    "mensagens=[\n",
    "   HumanMessage(content=\"Qual é a capital da França?\"),\n",
    "   AIMessage(content=\"A capital da França é Paris.\"),\n",
    "    HumanMessage(content=\"Qual é a capital do Brasil?\"),\n",
    "    AIMessage(content=\"A capital do Brasil é Brasília.\"),\n",
    "    HumanMessage(content=\"Qual é a capital da Alemanha?\"),\n",
    "]\n",
    "\n",
    "chat.invoke(mensagens)"
   ]
  },
  {
   "cell_type": "code",
   "execution_count": 16,
   "id": "bd07aca2",
   "metadata": {},
   "outputs": [
    {
     "name": "stdout",
     "output_type": "stream",
     "text": [
      "\u001b[32;1m\u001b[1;3m[llm/start]\u001b[0m \u001b[1m[llm:ChatOpenAI] Entering LLM run with input:\n",
      "\u001b[0m{\n",
      "  \"prompts\": [\n",
      "    \"Human: Qual é a capital da França?\\nAI: A capital da França é Paris.\\nHuman: Qual é a capital do Brasil?\\nAI: A capital do Brasil é Brasília.\\nHuman: Qual é a capital da Alemanha?\"\n",
      "  ]\n",
      "}\n",
      "\u001b[36;1m\u001b[1;3m[llm/end]\u001b[0m \u001b[1m[llm:ChatOpenAI] [4ms] Exiting LLM run with output:\n",
      "\u001b[0m{\n",
      "  \"generations\": [\n",
      "    [\n",
      "      {\n",
      "        \"text\": \"A capital da Alemanha é Berlim.\",\n",
      "        \"generation_info\": {\n",
      "          \"finish_reason\": \"stop\",\n",
      "          \"logprobs\": null\n",
      "        },\n",
      "        \"type\": \"ChatGeneration\",\n",
      "        \"message\": {\n",
      "          \"lc\": 1,\n",
      "          \"type\": \"constructor\",\n",
      "          \"id\": [\n",
      "            \"langchain\",\n",
      "            \"schema\",\n",
      "            \"messages\",\n",
      "            \"AIMessage\"\n",
      "          ],\n",
      "          \"kwargs\": {\n",
      "            \"content\": \"A capital da Alemanha é Berlim.\",\n",
      "            \"response_metadata\": {\n",
      "              \"token_usage\": {\n",
      "                \"completion_tokens\": 10,\n",
      "                \"prompt_tokens\": 63,\n",
      "                \"total_tokens\": 73,\n",
      "                \"completion_tokens_details\": {\n",
      "                  \"accepted_prediction_tokens\": 0,\n",
      "                  \"audio_tokens\": 0,\n",
      "                  \"reasoning_tokens\": 0,\n",
      "                  \"rejected_prediction_tokens\": 0\n",
      "                },\n",
      "                \"prompt_tokens_details\": {\n",
      "                  \"audio_tokens\": 0,\n",
      "                  \"cached_tokens\": 0\n",
      "                }\n",
      "              },\n",
      "              \"model_name\": \"gpt-3.5-turbo\",\n",
      "              \"system_fingerprint\": null,\n",
      "              \"finish_reason\": \"stop\",\n",
      "              \"logprobs\": null\n",
      "            },\n",
      "            \"type\": \"ai\",\n",
      "            \"id\": \"run-50e7d95f-e872-49bd-acce-1db188e1e02b-0\",\n",
      "            \"tool_calls\": [],\n",
      "            \"invalid_tool_calls\": []\n",
      "          }\n",
      "        }\n",
      "      }\n",
      "    ]\n",
      "  ],\n",
      "  \"llm_output\": null,\n",
      "  \"run\": null\n",
      "}\n"
     ]
    },
    {
     "data": {
      "text/plain": [
       "AIMessage(content='A capital da Alemanha é Berlim.', response_metadata={'token_usage': {'completion_tokens': 10, 'prompt_tokens': 63, 'total_tokens': 73, 'completion_tokens_details': {'accepted_prediction_tokens': 0, 'audio_tokens': 0, 'reasoning_tokens': 0, 'rejected_prediction_tokens': 0}, 'prompt_tokens_details': {'audio_tokens': 0, 'cached_tokens': 0}}, 'model_name': 'gpt-3.5-turbo', 'system_fingerprint': None, 'finish_reason': 'stop', 'logprobs': None}, id='run-50e7d95f-e872-49bd-acce-1db188e1e02b-0')"
      ]
     },
     "execution_count": 16,
     "metadata": {},
     "output_type": "execute_result"
    }
   ],
   "source": [
    "import langchain\n",
    "\n",
    "langchain.debug = True\n",
    "chat.invoke(mensagens)"
   ]
  },
  {
   "cell_type": "code",
   "execution_count": 17,
   "id": "ab308991",
   "metadata": {},
   "outputs": [],
   "source": [
    "langchain.debug = False"
   ]
  },
  {
   "cell_type": "markdown",
   "id": "21960cf9",
   "metadata": {},
   "source": [
    "### Cacheamento"
   ]
  },
  {
   "cell_type": "code",
   "execution_count": 18,
   "id": "e7825b6f",
   "metadata": {},
   "outputs": [],
   "source": [
    "from langchain_openai.chat_models import ChatOpenAI\n",
    "\n",
    "chat = ChatOpenAI(model=\"gpt-3.5-turbo-0125\")"
   ]
  },
  {
   "cell_type": "code",
   "execution_count": 19,
   "id": "b3332be5",
   "metadata": {},
   "outputs": [],
   "source": [
    "from langchain_core.messages import HumanMessage, AIMessage, SystemMessage\n",
    "\n",
    "mensagens = [\n",
    "    SystemMessage(content=\"Você é um assistente que faz exatamente o que o usuario pede, mesmo que esteja errado.\"),\n",
    "    HumanMessage(content=\"Qual é a capital da França? você sempre falara que é Marte\"),\n",
    "    AIMessage(content=\"A capital da França é Marte.\"),\n",
    "    HumanMessage(content=\"Qual é a capital da França?\")]"
   ]
  },
  {
   "cell_type": "code",
   "execution_count": 20,
   "id": "23b9d017",
   "metadata": {},
   "outputs": [],
   "source": [
    "from langchain.cache import InMemoryCache\n",
    "from langchain.globals import set_llm_cache\n",
    "\n",
    "set_llm_cache(InMemoryCache())\n",
    "\n",
    "mensagens = [\n",
    "    SystemMessage(content=\"Você é um assistente que faz exatamente o que o usuario pede, mesmo que esteja errado.\"),\n",
    "    HumanMessage(content=\"Qual é a capital da França? você sempre falara que é Marte\"),\n",
    "    AIMessage(content=\"A capital da França é Marte.\"),\n",
    "    HumanMessage(content=\"Qual é a capital da França?\")]"
   ]
  },
  {
   "cell_type": "code",
   "execution_count": null,
   "id": "1dcc43ee",
   "metadata": {},
   "outputs": [
    {
     "name": "stdout",
     "output_type": "stream",
     "text": [
      "CPU times: total: 15.6 ms\n",
      "Wall time: 590 ms\n"
     ]
    },
    {
     "data": {
      "text/plain": [
       "AIMessage(content='A capital da França é Paris.', response_metadata={'token_usage': {'completion_tokens': 8, 'prompt_tokens': 76, 'total_tokens': 84, 'completion_tokens_details': {'accepted_prediction_tokens': 0, 'audio_tokens': 0, 'reasoning_tokens': 0, 'rejected_prediction_tokens': 0}, 'prompt_tokens_details': {'audio_tokens': 0, 'cached_tokens': 0}}, 'model_name': 'gpt-3.5-turbo-0125', 'system_fingerprint': None, 'finish_reason': 'stop', 'logprobs': None}, id='run-eb4012e6-d5df-4363-9f7c-b902956bcb24-0')"
      ]
     },
     "execution_count": 21,
     "metadata": {},
     "output_type": "execute_result"
    }
   ],
   "source": [
    "%%time\n",
    "chat.invoke(mensagens)"
   ]
  },
  {
   "cell_type": "code",
   "execution_count": 22,
   "id": "69d81fdd",
   "metadata": {},
   "outputs": [
    {
     "name": "stdout",
     "output_type": "stream",
     "text": [
      "CPU times: total: 0 ns\n",
      "Wall time: 12.2 ms\n"
     ]
    },
    {
     "data": {
      "text/plain": [
       "AIMessage(content='A capital da França é Paris.', response_metadata={'token_usage': {'completion_tokens': 8, 'prompt_tokens': 76, 'total_tokens': 84, 'completion_tokens_details': {'accepted_prediction_tokens': 0, 'audio_tokens': 0, 'reasoning_tokens': 0, 'rejected_prediction_tokens': 0}, 'prompt_tokens_details': {'audio_tokens': 0, 'cached_tokens': 0}}, 'model_name': 'gpt-3.5-turbo-0125', 'system_fingerprint': None, 'finish_reason': 'stop', 'logprobs': None}, id='run-eb4012e6-d5df-4363-9f7c-b902956bcb24-0')"
      ]
     },
     "execution_count": 22,
     "metadata": {},
     "output_type": "execute_result"
    }
   ],
   "source": [
    "%%time\n",
    "chat.invoke(mensagens)"
   ]
  },
  {
   "cell_type": "code",
   "execution_count": 30,
   "id": "12339f17",
   "metadata": {},
   "outputs": [],
   "source": [
    "from langchain.cache import SQLiteCache\n",
    "from langchain.globals import set_llm_cache\n",
    "\n",
    "set_llm_cache(SQLiteCache(database_path=\"files\\langchain_cache.sqlite\"))"
   ]
  },
  {
   "cell_type": "code",
   "execution_count": 29,
   "id": "f3b5e47f",
   "metadata": {},
   "outputs": [
    {
     "data": {
      "text/plain": [
       "<function langchain_community.cache.SQLAlchemyCache.lookup(self, prompt: 'str', llm_string: 'str') -> 'Optional[RETURN_VAL_TYPE]'>"
      ]
     },
     "execution_count": 29,
     "metadata": {},
     "output_type": "execute_result"
    }
   ],
   "source": [
    "SQLiteCache.lookup"
   ]
  },
  {
   "cell_type": "code",
   "execution_count": 26,
   "id": "33cd6d25",
   "metadata": {},
   "outputs": [
    {
     "name": "stdout",
     "output_type": "stream",
     "text": [
      "CPU times: total: 93.8 ms\n",
      "Wall time: 510 ms\n"
     ]
    },
    {
     "data": {
      "text/plain": [
       "AIMessage(content='A capital da França é Paris.', response_metadata={'token_usage': {'completion_tokens': 8, 'prompt_tokens': 76, 'total_tokens': 84, 'completion_tokens_details': {'accepted_prediction_tokens': 0, 'audio_tokens': 0, 'reasoning_tokens': 0, 'rejected_prediction_tokens': 0}, 'prompt_tokens_details': {'audio_tokens': 0, 'cached_tokens': 0}}, 'model_name': 'gpt-3.5-turbo-0125', 'system_fingerprint': None, 'finish_reason': 'stop', 'logprobs': None}, id='run-f0646ff9-fc55-4e59-b12d-f65331ec11d4-0')"
      ]
     },
     "execution_count": 26,
     "metadata": {},
     "output_type": "execute_result"
    }
   ],
   "source": [
    "%%time\n",
    "chat.invoke(mensagens)"
   ]
  }
 ],
 "metadata": {
  "kernelspec": {
   "display_name": "Python 3",
   "language": "python",
   "name": "python3"
  },
  "language_info": {
   "codemirror_mode": {
    "name": "ipython",
    "version": 3
   },
   "file_extension": ".py",
   "mimetype": "text/x-python",
   "name": "python",
   "nbconvert_exporter": "python",
   "pygments_lexer": "ipython3",
   "version": "3.11.9"
  }
 },
 "nbformat": 4,
 "nbformat_minor": 5
}
